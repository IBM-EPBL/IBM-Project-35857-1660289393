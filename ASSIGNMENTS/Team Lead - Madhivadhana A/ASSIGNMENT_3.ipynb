{
  "nbformat": 4,
  "nbformat_minor": 0,
  "metadata": {
    "colab": {
      "provenance": []
    },
    "kernelspec": {
      "name": "python3",
      "display_name": "Python 3"
    },
    "language_info": {
      "name": "python"
    }
  },
  "cells": [
    {
      "cell_type": "code",
      "execution_count": null,
      "metadata": {
        "id": "iTZ_mjsrxTNQ"
      },
      "outputs": [],
      "source": [
        "import LED\n",
        "\n",
        "red = LED(22)\n",
        "\n",
        "red.blink()"
      ]
    },
    {
      "cell_type": "code",
      "source": [
        "from gpiozero\n",
        " import LED\n",
        "\n",
        "red = LED(22)\n",
        "amber = LED(27)\n",
        "green = LED(17)\n",
        "\n",
        "red.blink(1, 1)\n",
        "amber.blink(2, 2)\n",
        "green.blink(3, 3)"
      ],
      "metadata": {
        "id": "rnx6k1_gxZsC"
      },
      "execution_count": null,
      "outputs": []
    },
    {
      "cell_type": "code",
      "source": [
        "from gpiozero import LED\n",
        "from time import sleep\n",
        "\n",
        "red = LED(22)\n",
        "amber = LED(27)\n",
        "green = LED(17)\n",
        "\n",
        "red.on()\n",
        "sleep(1)\n",
        "amber.on()\n",
        "sleep(1)\n",
        "green.on()\n",
        "sleep(1)\n"
      ],
      "metadata": {
        "id": "YO27gPOTxa7-"
      },
      "execution_count": null,
      "outputs": []
    },
    {
      "cell_type": "code",
      "source": [
        "red.on()\n",
        "sleep(1)\n",
        "amber.on()\n",
        "sleep(1)\n",
        "green.on()\n",
        "sleep(1)\n",
        "red.off()\n",
        "sleep(1)\n",
        "amber.off()\n",
        "sleep(1)\n",
        "green.off()"
      ],
      "metadata": {
        "id": "ChHLp_LdxgjS"
      },
      "execution_count": null,
      "outputs": []
    },
    {
      "cell_type": "code",
      "source": [
        "while True:\n",
        "    red.on()\n",
        "    sleep(1)\n",
        "    amber.on()\n",
        "    sleep(1)\n",
        "    green.on()\n",
        "    sleep(1)\n",
        "    red.off()\n",
        "    sleep(1)\n",
        "    amber.off()\n",
        "    sleep(1)\n",
        "    green.off()"
      ],
      "metadata": {
        "id": "99dPrSL-xz-v"
      },
      "execution_count": null,
      "outputs": []
    }
  ]
}