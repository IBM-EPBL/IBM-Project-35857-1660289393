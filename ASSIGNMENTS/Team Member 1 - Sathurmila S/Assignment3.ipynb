{
  "nbformat": 4,
  "nbformat_minor": 0,
  "metadata": {
    "colab": {
      "provenance": []
    },
    "kernelspec": {
      "name": "python3",
      "display_name": "Python 3"
    },
    "language_info": {
      "name": "python"
    }
  },
  "cells": [
    {
      "cell_type": "code",
      "execution_count": null,
      "metadata": {
        "id": "i_cDMly7bjnC"
      },
      "outputs": [],
      "source": [
        "import LED\n",
        "\n",
        "red = LED(22)\n",
        "\n",
        "red.blink()\n",
        "from gpiozero\n",
        " import LED\n",
        "\n",
        "red = LED(22)\n",
        "amber = LED(27)\n",
        "green = LED(17)\n",
        "\n",
        "red.blink(1, 1)\n",
        "amber.blink(2, 2)\n",
        "green.blink(3, 3)\n",
        "from gpiozero import LED\n",
        "from time import sleep\n",
        "\n",
        "red = LED(22)\n",
        "amber = LED(27)\n",
        "green = LED(17)\n",
        "\n",
        "red.on()\n",
        "sleep(1)\n",
        "amber.on()\n",
        "sleep(1)\n",
        "green.on()\n",
        "sleep(1)\n",
        "red.on()\n",
        "sleep(1)\n",
        "amber.on()\n",
        "sleep(1)\n",
        "green.on()\n",
        "sleep(1)\n",
        "red.off()\n",
        "sleep(1)\n",
        "amber.off()\n",
        "sleep(1)\n",
        "green.off()\n",
        "while True:\n",
        "    red.on()\n",
        "    sleep(1)\n",
        "    amber.on()\n",
        "    sleep(1)\n",
        "    green.on()\n",
        "    sleep(1)\n",
        "    red.off()\n",
        "    sleep(1)\n",
        "    amber.off()\n",
        "    sleep(1)\n",
        "    green.off()"
      ]
    }
  ]
}