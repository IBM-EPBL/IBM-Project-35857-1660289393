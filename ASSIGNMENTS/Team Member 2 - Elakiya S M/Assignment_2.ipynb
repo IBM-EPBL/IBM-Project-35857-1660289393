{
  "nbformat": 4,
  "nbformat_minor": 0,
  "metadata": {
    "colab": {
      "provenance": []
    },
    "kernelspec": {
      "name": "python3",
      "display_name": "Python 3"
    },
    "language_info": {
      "name": "python"
    }
  },
  "cells": [
    {
      "cell_type": "code",
      "execution_count": 4,
      "metadata": {
        "colab": {
          "base_uri": "https://localhost:8080/"
        },
        "id": "3AgorLt_B_pr",
        "outputId": "e56b42bf-a010-4655-ac46-c7828d53c171"
      },
      "outputs": [
        {
          "output_type": "stream",
          "name": "stdout",
          "text": [
            "Enter the city name: Thiruvallur\n",
            "-------------------------------------------------------------\n",
            "Weather Stats for - THIRUVALLUR  || 01 Oct 2022 | 05:41:31 AM\n",
            "-------------------------------------------------------------\n",
            "Current temperature is: 29.80 deg C\n",
            "Current weather desc  : light rain\n",
            "Current Humidity      : 65 %\n",
            "Current wind speed    : 3.94 kmph\n",
            "====================================================\n"
          ]
        }
      ],
      "source": [
        "import requests\n",
        "#import os\n",
        "from datetime import datetime\n",
        "api_key = '4485e56ab6de9a91047e8fbeed6a7902'\n",
        "location = input(\"Enter the city name: \")\n",
        " \n",
        "complete_api_link = \"https://api.openweathermap.org/data/2.5/weather?q=\"+location+\"&appid=\"+api_key\n",
        "api_link = requests.get(complete_api_link)\n",
        "api_data = api_link.json()\n",
        " \n",
        "#create variables to store and display data\n",
        "temp_city = ((api_data['main']['temp']) - 273.15)\n",
        "weather_desc = api_data['weather'][0]['description']\n",
        "hmdt = api_data['main']['humidity']\n",
        "wind_spd = api_data['wind']['speed']\n",
        "date_time = datetime.now().strftime(\"%d %b %Y | %I:%M:%S %p\")\n",
        "print (\"-------------------------------------------------------------\")\n",
        "print (\"Weather Stats for - {}  || {}\".format(location.upper(), date_time))\n",
        "print (\"-------------------------------------------------------------\")\n",
        "print (\"Current temperature is: {:.2f} deg C\".format(temp_city))\n",
        "print (\"Current weather desc  :\",weather_desc)\n",
        "print (\"Current Humidity      :\",hmdt, '%')\n",
        "print (\"Current wind speed    :\",wind_spd ,'kmph')\n",
        "print(\"====================================================\")\n",
        " \n",
        "# making a list so that i can print the info to a txt \n",
        "txtlist = [temp_city,weather_desc,hmdt,wind_spd,date_time]\n",
        "#using open() buit-in function to write to a text file\n",
        "with open(\"textfile.txt\" , mode= 'w' ,encoding= 'utf-8') as f :                                          \n",
        "#encoding = utf-8 for linux and cp1252 for win    \n",
        "    f.write(\"------------------------------------------------------------- \\n \")       \n",
        "    f.write(\"Weather Stats for - {}  || {}\".format(location.upper(), date_time))    \n",
        "    f.write(\"\\n ------------------------------------------------------------- \\n\")    \n",
        "    f.write(\"Current temperature is: {:.2f} deg C\\n\".format(txtlist[0]))        \n",
        "    f.write(\"{},{} \\n\".format(\"Current weather desc  :\" ,txtlist[1]))    \n",
        "    f.write(\"{},{},{} \\n\".format(\"Current Humidity      :\",txtlist[2],\"%\"))    \n",
        "    f.write(\"{},{},{} \\n\".format(\"Current wind speed    :\",txtlist[3],\"kmph\"))    \n",
        "    f.write(\"====================================================\")"
      ]
    }
  ]
}