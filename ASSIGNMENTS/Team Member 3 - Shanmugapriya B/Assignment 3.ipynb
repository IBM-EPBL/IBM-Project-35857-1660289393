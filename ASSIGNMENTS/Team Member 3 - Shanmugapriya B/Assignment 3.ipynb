{
  "nbformat": 4,
  "nbformat_minor": 0,
  "metadata": {
    "colab": {
      "provenance": [],
      "collapsed_sections": []
    },
    "kernelspec": {
      "name": "python3",
      "display_name": "Python 3"
    },
    "language_info": {
      "name": "python"
    }
  },
  "cells": [
    {
      "cell_type": "code",
      "execution_count": null,
      "metadata": {
        "colab": {
          "base_uri": "https://localhost:8080/",
          "height": 130
        },
        "id": "ZApcJstdRtc5",
        "outputId": "5b7be89d-24c2-4981-b859-94b458541224"
      },
      "outputs": [
        {
          "output_type": "error",
          "ename": "SyntaxError",
          "evalue": "ignored",
          "traceback": [
            "\u001b[0;36m  File \u001b[0;32m\"<ipython-input-1-8f5a5492dab0>\"\u001b[0;36m, line \u001b[0;32m6\u001b[0m\n\u001b[0;31m    from gpiozero\u001b[0m\n\u001b[0m                 ^\u001b[0m\n\u001b[0;31mSyntaxError\u001b[0m\u001b[0;31m:\u001b[0m invalid syntax\n"
          ]
        }
      ],
      "source": [
        "import LED\n",
        "\n",
        "red = LED(22)\n",
        "\n",
        "red.blink()\n",
        "from gpiozero\n",
        " import LED\n",
        "\n",
        "red = LED(22)\n",
        "amber = LED(27)\n",
        "green = LED(17)\n",
        "\n",
        "red.blink(1, 1)\n",
        "amber.blink(2, 2)\n",
        "green.blink(3, 3)\n",
        "from gpiozero import LED\n",
        "from time import sleep\n",
        "\n",
        "red = LED(22)\n",
        "amber = LED(27)\n",
        "green = LED(17)\n",
        "\n",
        "red.on()\n",
        "sleep(1)\n",
        "amber.on()\n",
        "sleep(1)\n",
        "green.on()\n",
        "sleep(1)\n",
        "red.on()\n",
        "sleep(1)\n",
        "amber.on()\n",
        "sleep(1)\n",
        "green.on()\n",
        "sleep(1)\n",
        "red.off()\n",
        "sleep(1)\n",
        "amber.off()\n",
        "sleep(1)\n",
        "green.off()\n",
        "while True:\n",
        "    red.on()\n",
        "    sleep(1)\n",
        "    amber.on()\n",
        "    sleep(1)\n",
        "    green.on()\n",
        "    sleep(1)\n",
        "    red.off()\n",
        "    sleep(1)\n",
        "    amber.off()\n",
        "    sleep(1)\n",
        "    green.off()"
      ]
    }
  ]
}